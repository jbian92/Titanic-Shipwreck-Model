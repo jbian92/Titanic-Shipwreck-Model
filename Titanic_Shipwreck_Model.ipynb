{
  "nbformat": 4,
  "nbformat_minor": 0,
  "metadata": {
    "colab": {
      "name": "Titanic Shipwreck Model.ipynb",
      "provenance": [],
      "authorship_tag": "ABX9TyMT9QY7snR1YpD6vIUYntoD",
      "include_colab_link": true
    },
    "kernelspec": {
      "name": "python3",
      "display_name": "Python 3"
    },
    "language_info": {
      "name": "python"
    }
  },
  "cells": [
    {
      "cell_type": "markdown",
      "metadata": {
        "id": "view-in-github",
        "colab_type": "text"
      },
      "source": [
        "<a href=\"https://colab.research.google.com/github/jbian92/Titanic-Shipwreck-Model/blob/main/Titanic_Shipwreck_Model.ipynb\" target=\"_parent\"><img src=\"https://colab.research.google.com/assets/colab-badge.svg\" alt=\"Open In Colab\"/></a>"
      ]
    },
    {
      "cell_type": "markdown",
      "metadata": {
        "id": "17NIL4LmcAJZ"
      },
      "source": [
        "**Prep the Program**"
      ]
    },
    {
      "cell_type": "code",
      "metadata": {
        "id": "ZdkOQTuya97q"
      },
      "source": [
        "from sklearn.model_selection import train_test_split\n",
        "import tensorflow as tf\n",
        "import pandas as pd"
      ],
      "execution_count": 180,
      "outputs": []
    },
    {
      "cell_type": "markdown",
      "metadata": {
        "id": "v0IfyaWmcILE"
      },
      "source": [
        "**Import and Pre-Process the Data**"
      ]
    },
    {
      "cell_type": "code",
      "metadata": {
        "id": "V5VnLWSscMlf"
      },
      "source": [
        "df = pd.read_csv('https://cdn.techroulette.xyz/projects/shipwreck/data/m3_data.csv')\n",
        "\n",
        "# remove irrelevant data\n",
        "df = df.drop(['PassengerId', 'Name', 'Age', 'SibSp', 'Parch', 'Ticket', 'Cabin', 'Embarked'], axis=1)\n",
        "\n",
        "# convert text to numerical value since the model is not able to process/learn from text\n",
        "df = df.replace({'male': 0, 'female': 1})"
      ],
      "execution_count": 181,
      "outputs": []
    },
    {
      "cell_type": "markdown",
      "metadata": {
        "id": "kKLRupwmd37z"
      },
      "source": [
        "**Create Training and Testing Data Sets**"
      ]
    },
    {
      "cell_type": "code",
      "metadata": {
        "id": "pyL_bIBsd7Ne"
      },
      "source": [
        "y = df.pop('Survived') # simultaneously return the column 'Survived' while removing that column from our data df; data outputs\n",
        "X = df # remainder of the data; data inputs\n",
        "\n",
        "# split data into a training set and a testing set\n",
        "# X_train = training evidence (inputs), X_test = testing evidence, y_train = training labels (outputs), and y_test = testing labels\n",
        "# training data comprises of 70% of the original data while the testing data makes up the remaining 30%\n",
        "X_train, X_test, y_train, y_test = train_test_split(X, y, test_size=0.3) "
      ],
      "execution_count": 182,
      "outputs": []
    },
    {
      "cell_type": "markdown",
      "metadata": {
        "id": "ylZEoq-jeasS"
      },
      "source": [
        "**Define the Model**"
      ]
    },
    {
      "cell_type": "code",
      "metadata": {
        "id": "3nWXOUQweaIH"
      },
      "source": [
        "model = tf.keras.models.Sequential() # create a single instance of a tf neural network model\n",
        "model.add(tf.keras.layers.Dense(10, input_shape=(3,), activation=\"relu\")) # add a layer of 10 neurons to the neural network\n",
        "model.add(tf.keras.layers.Dense(1, activation=\"sigmoid\")) # add a final layer with one neuron for our model to spit out an output/label"
      ],
      "execution_count": 183,
      "outputs": []
    },
    {
      "cell_type": "markdown",
      "metadata": {
        "id": "El5JPNG-ekOo"
      },
      "source": [
        "**Train the Model**"
      ]
    },
    {
      "cell_type": "code",
      "metadata": {
        "colab": {
          "base_uri": "https://localhost:8080/"
        },
        "id": "5Dt_vWjYensW",
        "outputId": "e6af4146-ca93-47bc-f476-8120d8271674"
      },
      "source": [
        "model.compile(optimizer=\"adam\", loss=\"binary_crossentropy\", metrics=[\"accuracy\"]) # compile & configure model\n",
        "model.fit(X_train, y_train, epochs=100) # train 100 times"
      ],
      "execution_count": 184,
      "outputs": [
        {
          "output_type": "stream",
          "text": [
            "Epoch 1/100\n",
            "20/20 [==============================] - 0s 1ms/step - loss: 12.7254 - accuracy: 0.6228\n",
            "Epoch 2/100\n",
            "20/20 [==============================] - 0s 1ms/step - loss: 10.6785 - accuracy: 0.6228\n",
            "Epoch 3/100\n",
            "20/20 [==============================] - 0s 2ms/step - loss: 8.7354 - accuracy: 0.6228\n",
            "Epoch 4/100\n",
            "20/20 [==============================] - 0s 1ms/step - loss: 6.8575 - accuracy: 0.6228\n",
            "Epoch 5/100\n",
            "20/20 [==============================] - 0s 1ms/step - loss: 5.0791 - accuracy: 0.6228\n",
            "Epoch 6/100\n",
            "20/20 [==============================] - 0s 1ms/step - loss: 3.3637 - accuracy: 0.6228\n",
            "Epoch 7/100\n",
            "20/20 [==============================] - 0s 1ms/step - loss: 1.8300 - accuracy: 0.6228\n",
            "Epoch 8/100\n",
            "20/20 [==============================] - 0s 1ms/step - loss: 0.7980 - accuracy: 0.5923\n",
            "Epoch 9/100\n",
            "20/20 [==============================] - 0s 1ms/step - loss: 0.6716 - accuracy: 0.6003\n",
            "Epoch 10/100\n",
            "20/20 [==============================] - 0s 2ms/step - loss: 0.6362 - accuracy: 0.7400\n",
            "Epoch 11/100\n",
            "20/20 [==============================] - 0s 1ms/step - loss: 0.6169 - accuracy: 0.7432\n",
            "Epoch 12/100\n",
            "20/20 [==============================] - 0s 2ms/step - loss: 0.6084 - accuracy: 0.7480\n",
            "Epoch 13/100\n",
            "20/20 [==============================] - 0s 1ms/step - loss: 0.5983 - accuracy: 0.7528\n",
            "Epoch 14/100\n",
            "20/20 [==============================] - 0s 2ms/step - loss: 0.5895 - accuracy: 0.7528\n",
            "Epoch 15/100\n",
            "20/20 [==============================] - 0s 1ms/step - loss: 0.5761 - accuracy: 0.7528\n",
            "Epoch 16/100\n",
            "20/20 [==============================] - 0s 1ms/step - loss: 0.5666 - accuracy: 0.7416\n",
            "Epoch 17/100\n",
            "20/20 [==============================] - 0s 2ms/step - loss: 0.5637 - accuracy: 0.7512\n",
            "Epoch 18/100\n",
            "20/20 [==============================] - 0s 2ms/step - loss: 0.5568 - accuracy: 0.7512\n",
            "Epoch 19/100\n",
            "20/20 [==============================] - 0s 2ms/step - loss: 0.5564 - accuracy: 0.7576\n",
            "Epoch 20/100\n",
            "20/20 [==============================] - 0s 2ms/step - loss: 0.5536 - accuracy: 0.7592\n",
            "Epoch 21/100\n",
            "20/20 [==============================] - 0s 2ms/step - loss: 0.5502 - accuracy: 0.7769\n",
            "Epoch 22/100\n",
            "20/20 [==============================] - 0s 2ms/step - loss: 0.5487 - accuracy: 0.7496\n",
            "Epoch 23/100\n",
            "20/20 [==============================] - 0s 2ms/step - loss: 0.5466 - accuracy: 0.7753\n",
            "Epoch 24/100\n",
            "20/20 [==============================] - 0s 1ms/step - loss: 0.5438 - accuracy: 0.7480\n",
            "Epoch 25/100\n",
            "20/20 [==============================] - 0s 1ms/step - loss: 0.5410 - accuracy: 0.7705\n",
            "Epoch 26/100\n",
            "20/20 [==============================] - 0s 2ms/step - loss: 0.5396 - accuracy: 0.7592\n",
            "Epoch 27/100\n",
            "20/20 [==============================] - 0s 1ms/step - loss: 0.5406 - accuracy: 0.7833\n",
            "Epoch 28/100\n",
            "20/20 [==============================] - 0s 2ms/step - loss: 0.5374 - accuracy: 0.7384\n",
            "Epoch 29/100\n",
            "20/20 [==============================] - 0s 1ms/step - loss: 0.5353 - accuracy: 0.7753\n",
            "Epoch 30/100\n",
            "20/20 [==============================] - 0s 1ms/step - loss: 0.5353 - accuracy: 0.7608\n",
            "Epoch 31/100\n",
            "20/20 [==============================] - 0s 2ms/step - loss: 0.5330 - accuracy: 0.7512\n",
            "Epoch 32/100\n",
            "20/20 [==============================] - 0s 1ms/step - loss: 0.5289 - accuracy: 0.7640\n",
            "Epoch 33/100\n",
            "20/20 [==============================] - 0s 2ms/step - loss: 0.5285 - accuracy: 0.7640\n",
            "Epoch 34/100\n",
            "20/20 [==============================] - 0s 1ms/step - loss: 0.5264 - accuracy: 0.7833\n",
            "Epoch 35/100\n",
            "20/20 [==============================] - 0s 2ms/step - loss: 0.5345 - accuracy: 0.7448\n",
            "Epoch 36/100\n",
            "20/20 [==============================] - 0s 1ms/step - loss: 0.5248 - accuracy: 0.7624\n",
            "Epoch 37/100\n",
            "20/20 [==============================] - 0s 1ms/step - loss: 0.5189 - accuracy: 0.7576\n",
            "Epoch 38/100\n",
            "20/20 [==============================] - 0s 2ms/step - loss: 0.5268 - accuracy: 0.7753\n",
            "Epoch 39/100\n",
            "20/20 [==============================] - 0s 1ms/step - loss: 0.5277 - accuracy: 0.7560\n",
            "Epoch 40/100\n",
            "20/20 [==============================] - 0s 2ms/step - loss: 0.5215 - accuracy: 0.7785\n",
            "Epoch 41/100\n",
            "20/20 [==============================] - 0s 1ms/step - loss: 0.5227 - accuracy: 0.7657\n",
            "Epoch 42/100\n",
            "20/20 [==============================] - 0s 2ms/step - loss: 0.5162 - accuracy: 0.7657\n",
            "Epoch 43/100\n",
            "20/20 [==============================] - 0s 1ms/step - loss: 0.5103 - accuracy: 0.7833\n",
            "Epoch 44/100\n",
            "20/20 [==============================] - 0s 1ms/step - loss: 0.5128 - accuracy: 0.7592\n",
            "Epoch 45/100\n",
            "20/20 [==============================] - 0s 1ms/step - loss: 0.5086 - accuracy: 0.7689\n",
            "Epoch 46/100\n",
            "20/20 [==============================] - 0s 1ms/step - loss: 0.5097 - accuracy: 0.7737\n",
            "Epoch 47/100\n",
            "20/20 [==============================] - 0s 2ms/step - loss: 0.5055 - accuracy: 0.7624\n",
            "Epoch 48/100\n",
            "20/20 [==============================] - 0s 1ms/step - loss: 0.5078 - accuracy: 0.7640\n",
            "Epoch 49/100\n",
            "20/20 [==============================] - 0s 2ms/step - loss: 0.5064 - accuracy: 0.7512\n",
            "Epoch 50/100\n",
            "20/20 [==============================] - 0s 2ms/step - loss: 0.5032 - accuracy: 0.7945\n",
            "Epoch 51/100\n",
            "20/20 [==============================] - 0s 2ms/step - loss: 0.5043 - accuracy: 0.7528\n",
            "Epoch 52/100\n",
            "20/20 [==============================] - 0s 1ms/step - loss: 0.4995 - accuracy: 0.7624\n",
            "Epoch 53/100\n",
            "20/20 [==============================] - 0s 1ms/step - loss: 0.4979 - accuracy: 0.7689\n",
            "Epoch 54/100\n",
            "20/20 [==============================] - 0s 1ms/step - loss: 0.5015 - accuracy: 0.7705\n",
            "Epoch 55/100\n",
            "20/20 [==============================] - 0s 1ms/step - loss: 0.5009 - accuracy: 0.7544\n",
            "Epoch 56/100\n",
            "20/20 [==============================] - 0s 1ms/step - loss: 0.5018 - accuracy: 0.7769\n",
            "Epoch 57/100\n",
            "20/20 [==============================] - 0s 1ms/step - loss: 0.5023 - accuracy: 0.7496\n",
            "Epoch 58/100\n",
            "20/20 [==============================] - 0s 2ms/step - loss: 0.4933 - accuracy: 0.7608\n",
            "Epoch 59/100\n",
            "20/20 [==============================] - 0s 1ms/step - loss: 0.4934 - accuracy: 0.7705\n",
            "Epoch 60/100\n",
            "20/20 [==============================] - 0s 2ms/step - loss: 0.4920 - accuracy: 0.7624\n",
            "Epoch 61/100\n",
            "20/20 [==============================] - 0s 2ms/step - loss: 0.4898 - accuracy: 0.7640\n",
            "Epoch 62/100\n",
            "20/20 [==============================] - 0s 2ms/step - loss: 0.4923 - accuracy: 0.7576\n",
            "Epoch 63/100\n",
            "20/20 [==============================] - 0s 2ms/step - loss: 0.4897 - accuracy: 0.7833\n",
            "Epoch 64/100\n",
            "20/20 [==============================] - 0s 2ms/step - loss: 0.4936 - accuracy: 0.7544\n",
            "Epoch 65/100\n",
            "20/20 [==============================] - 0s 2ms/step - loss: 0.4868 - accuracy: 0.7624\n",
            "Epoch 66/100\n",
            "20/20 [==============================] - 0s 2ms/step - loss: 0.4890 - accuracy: 0.7640\n",
            "Epoch 67/100\n",
            "20/20 [==============================] - 0s 2ms/step - loss: 0.4861 - accuracy: 0.7753\n",
            "Epoch 68/100\n",
            "20/20 [==============================] - 0s 2ms/step - loss: 0.4880 - accuracy: 0.7737\n",
            "Epoch 69/100\n",
            "20/20 [==============================] - 0s 1ms/step - loss: 0.4869 - accuracy: 0.7769\n",
            "Epoch 70/100\n",
            "20/20 [==============================] - 0s 2ms/step - loss: 0.4840 - accuracy: 0.7721\n",
            "Epoch 71/100\n",
            "20/20 [==============================] - 0s 1ms/step - loss: 0.4865 - accuracy: 0.7817\n",
            "Epoch 72/100\n",
            "20/20 [==============================] - 0s 2ms/step - loss: 0.4918 - accuracy: 0.7624\n",
            "Epoch 73/100\n",
            "20/20 [==============================] - 0s 2ms/step - loss: 0.4885 - accuracy: 0.7833\n",
            "Epoch 74/100\n",
            "20/20 [==============================] - 0s 2ms/step - loss: 0.4848 - accuracy: 0.7705\n",
            "Epoch 75/100\n",
            "20/20 [==============================] - 0s 2ms/step - loss: 0.4830 - accuracy: 0.7689\n",
            "Epoch 76/100\n",
            "20/20 [==============================] - 0s 1ms/step - loss: 0.4871 - accuracy: 0.7737\n",
            "Epoch 77/100\n",
            "20/20 [==============================] - 0s 2ms/step - loss: 0.4819 - accuracy: 0.7737\n",
            "Epoch 78/100\n",
            "20/20 [==============================] - 0s 1ms/step - loss: 0.4895 - accuracy: 0.7657\n",
            "Epoch 79/100\n",
            "20/20 [==============================] - 0s 2ms/step - loss: 0.4920 - accuracy: 0.7721\n",
            "Epoch 80/100\n",
            "20/20 [==============================] - 0s 2ms/step - loss: 0.4818 - accuracy: 0.7721\n",
            "Epoch 81/100\n",
            "20/20 [==============================] - 0s 2ms/step - loss: 0.4824 - accuracy: 0.7769\n",
            "Epoch 82/100\n",
            "20/20 [==============================] - 0s 2ms/step - loss: 0.4787 - accuracy: 0.7817\n",
            "Epoch 83/100\n",
            "20/20 [==============================] - 0s 2ms/step - loss: 0.4821 - accuracy: 0.7801\n",
            "Epoch 84/100\n",
            "20/20 [==============================] - 0s 1ms/step - loss: 0.4785 - accuracy: 0.7737\n",
            "Epoch 85/100\n",
            "20/20 [==============================] - 0s 1ms/step - loss: 0.4769 - accuracy: 0.7785\n",
            "Epoch 86/100\n",
            "20/20 [==============================] - 0s 1ms/step - loss: 0.4763 - accuracy: 0.7785\n",
            "Epoch 87/100\n",
            "20/20 [==============================] - 0s 1ms/step - loss: 0.4771 - accuracy: 0.7785\n",
            "Epoch 88/100\n",
            "20/20 [==============================] - 0s 1ms/step - loss: 0.4764 - accuracy: 0.7833\n",
            "Epoch 89/100\n",
            "20/20 [==============================] - 0s 2ms/step - loss: 0.4749 - accuracy: 0.7737\n",
            "Epoch 90/100\n",
            "20/20 [==============================] - 0s 1ms/step - loss: 0.4814 - accuracy: 0.7689\n",
            "Epoch 91/100\n",
            "20/20 [==============================] - 0s 2ms/step - loss: 0.4783 - accuracy: 0.7801\n",
            "Epoch 92/100\n",
            "20/20 [==============================] - 0s 1ms/step - loss: 0.4735 - accuracy: 0.7769\n",
            "Epoch 93/100\n",
            "20/20 [==============================] - 0s 2ms/step - loss: 0.4754 - accuracy: 0.7785\n",
            "Epoch 94/100\n",
            "20/20 [==============================] - 0s 2ms/step - loss: 0.4730 - accuracy: 0.7785\n",
            "Epoch 95/100\n",
            "20/20 [==============================] - 0s 2ms/step - loss: 0.4747 - accuracy: 0.7753\n",
            "Epoch 96/100\n",
            "20/20 [==============================] - 0s 1ms/step - loss: 0.4746 - accuracy: 0.7769\n",
            "Epoch 97/100\n",
            "20/20 [==============================] - 0s 2ms/step - loss: 0.4746 - accuracy: 0.7785\n",
            "Epoch 98/100\n",
            "20/20 [==============================] - 0s 2ms/step - loss: 0.4733 - accuracy: 0.7801\n",
            "Epoch 99/100\n",
            "20/20 [==============================] - 0s 1ms/step - loss: 0.4753 - accuracy: 0.7785\n",
            "Epoch 100/100\n",
            "20/20 [==============================] - 0s 2ms/step - loss: 0.4749 - accuracy: 0.7737\n"
          ],
          "name": "stdout"
        },
        {
          "output_type": "execute_result",
          "data": {
            "text/plain": [
              "<tensorflow.python.keras.callbacks.History at 0x7f31b693b190>"
            ]
          },
          "metadata": {
            "tags": []
          },
          "execution_count": 184
        }
      ]
    },
    {
      "cell_type": "markdown",
      "metadata": {
        "id": "fUFYl5RgerkG"
      },
      "source": [
        "**Test the Model**"
      ]
    },
    {
      "cell_type": "code",
      "metadata": {
        "colab": {
          "base_uri": "https://localhost:8080/"
        },
        "id": "UQtBMOl8euaO",
        "outputId": "127a3322-a2d2-4817-fc6c-fa242981cc2d"
      },
      "source": [
        "model.evaluate(X_test, y_test, verbose=2)"
      ],
      "execution_count": 185,
      "outputs": [
        {
          "output_type": "stream",
          "text": [
            "9/9 - 0s - loss: 0.4644 - accuracy: 0.7985\n"
          ],
          "name": "stdout"
        },
        {
          "output_type": "execute_result",
          "data": {
            "text/plain": [
              "[0.46444523334503174, 0.7985074520111084]"
            ]
          },
          "metadata": {
            "tags": []
          },
          "execution_count": 185
        }
      ]
    }
  ]
}